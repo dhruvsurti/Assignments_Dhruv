{
 "cells": [
  {
   "cell_type": "code",
   "execution_count": 14,
   "id": "1430766e",
   "metadata": {},
   "outputs": [
    {
     "name": "stdout",
     "output_type": "stream",
     "text": [
      "[2, 'vruv', 'dhruv']\n"
     ]
    }
   ],
   "source": [
    "# What is List? How will you reverse a list?\n",
    "\n",
    "lisT  = ['dhruv', 'vruv', 2]\n",
    "\n",
    "lisT.reverse()\n",
    "print(lisT)\n"
   ]
  },
  {
   "cell_type": "code",
   "execution_count": 23,
   "id": "0219d54f",
   "metadata": {},
   "outputs": [
    {
     "name": "stdout",
     "output_type": "stream",
     "text": [
      "['dhruv', 'laptop', 'iphone', 'airpods', 'iwatch']\n"
     ]
    }
   ],
   "source": [
    "# How will you remove last object from a list\n",
    "a = ['dhruv','laptop', 'iphone', 'airpods','iwatch','perfect_combination']\n",
    "a.pop(5)\n",
    "print(a)\n"
   ]
  },
  {
   "cell_type": "code",
   "execution_count": 24,
   "id": "bf903c37",
   "metadata": {},
   "outputs": [],
   "source": [
    "#  Suppose list1 is [2, 33, 222, 14, and 25], what is list1 [-1]?\n",
    "# 25"
   ]
  },
  {
   "cell_type": "code",
   "execution_count": 25,
   "id": "f60c85db",
   "metadata": {},
   "outputs": [],
   "source": [
    "#  Differentiate between append () and extend () methods?\n"
   ]
  },
  {
   "cell_type": "code",
   "execution_count": 30,
   "id": "03aea3e8",
   "metadata": {},
   "outputs": [
    {
     "data": {
      "text/plain": [
       "228"
      ]
     },
     "execution_count": 30,
     "metadata": {},
     "output_type": "execute_result"
    }
   ],
   "source": [
    "# Write a Python function to get the largest number, smallest num and sum \n",
    "# of all from a list.\n",
    "a=[33,3,44,5,66,77]\n",
    "max(a)\n",
    "min(a)\n",
    "sum(a)"
   ]
  },
  {
   "cell_type": "code",
   "execution_count": 41,
   "id": "82b9e69d",
   "metadata": {},
   "outputs": [
    {
     "name": "stdout",
     "output_type": "stream",
     "text": [
      "['dhruv', 'dhruv', 'iphone', 'songs', 'songs']\n"
     ]
    }
   ],
   "source": [
    "# Write a Python program to remove duplicates from a list\n",
    "a=['dhruv','dhruv','iphone','songs','songs']\n",
    "a.sort()                                               #DOUBT\n",
    "print(a)\n",
    "\n"
   ]
  },
  {
   "cell_type": "code",
   "execution_count": 47,
   "id": "540b58a4",
   "metadata": {},
   "outputs": [
    {
     "ename": "SyntaxError",
     "evalue": "invalid syntax (189910337.py, line 2)",
     "output_type": "error",
     "traceback": [
      "\u001b[1;36m  Input \u001b[1;32mIn [47]\u001b[1;36m\u001b[0m\n\u001b[1;33m    a= list[input[]]\u001b[0m\n\u001b[1;37m                  ^\u001b[0m\n\u001b[1;31mSyntaxError\u001b[0m\u001b[1;31m:\u001b[0m invalid syntax\n"
     ]
    }
   ],
   "source": [
    "#  Write a Python program to check a list is empty or not.\n",
    "a= list(input())\n",
    "b = a.clear\n",
    "if a == b:\n",
    "    print('empty')\n",
    "else:\n",
    "    print('not empty')"
   ]
  },
  {
   "cell_type": "code",
   "execution_count": 48,
   "id": "83e4adf3",
   "metadata": {},
   "outputs": [
    {
     "name": "stdout",
     "output_type": "stream",
     "text": [
      "adb,sjndm,dkmdk\n",
      "sdlml,fof,flklo,\n"
     ]
    }
   ],
   "source": [
    "# Write a Python function that takes two lists and returns true if they have \n",
    "# at least one common member.\n",
    "a= list(input())\n",
    "b=list(input())\n",
    "if a.\n"
   ]
  },
  {
   "cell_type": "code",
   "execution_count": 49,
   "id": "df31a1b0",
   "metadata": {},
   "outputs": [
    {
     "data": {
      "text/plain": [
       "\"['dhruv', 'dhruv', 'iphone', 'songs', 'songs']\""
      ]
     },
     "execution_count": 49,
     "metadata": {},
     "output_type": "execute_result"
    }
   ],
   "source": [
    "# Write a Python program to convert a list of characters into a string.\n",
    "a=['dhruv','dhruv','iphone','songs','songs']\n",
    "str(a)\n"
   ]
  },
  {
   "cell_type": "code",
   "execution_count": 56,
   "id": "61691bb8",
   "metadata": {},
   "outputs": [
    {
     "name": "stdout",
     "output_type": "stream",
     "text": [
      "'honry','doby'\n",
      "14\n"
     ]
    }
   ],
   "source": [
    "#  Write a Python program to find the length of a tuple.\n",
    "a = tuple(input())\n",
    "b=len(a)                                                       #dount\n",
    "print(b)"
   ]
  },
  {
   "cell_type": "code",
   "execution_count": null,
   "id": "63d3bd09",
   "metadata": {},
   "outputs": [],
   "source": []
  }
 ],
 "metadata": {
  "kernelspec": {
   "display_name": "Python 3 (ipykernel)",
   "language": "python",
   "name": "python3"
  },
  "language_info": {
   "codemirror_mode": {
    "name": "ipython",
    "version": 3
   },
   "file_extension": ".py",
   "mimetype": "text/x-python",
   "name": "python",
   "nbconvert_exporter": "python",
   "pygments_lexer": "ipython3",
   "version": "3.9.12"
  }
 },
 "nbformat": 4,
 "nbformat_minor": 5
}
